{
 "cells": [
  {
   "cell_type": "markdown",
   "metadata": {
    "application/vnd.databricks.v1+cell": {
     "cellMetadata": {},
     "inputWidgets": {},
     "nuid": "bf143f83-356f-4de6-a403-fa1fd0183a25",
     "showTitle": false,
     "title": ""
    },
    "id": "rZtskxrQyg3e"
   },
   "source": [
    "#Install Dependencies & Run a SparkSession\n"
   ]
  },
  {
   "cell_type": "code",
   "execution_count": 0,
   "metadata": {
    "application/vnd.databricks.v1+cell": {
     "cellMetadata": {},
     "inputWidgets": {},
     "nuid": "965d304e-8714-4d59-83e3-2ebcc971b58b",
     "showTitle": false,
     "title": ""
    },
    "colab": {
     "background_save": true,
     "base_uri": "https://localhost:8080/"
    },
    "id": "a9huiQF8yfIK",
    "outputId": "e125ed80-1262-4b48-942d-e692141004c0"
   },
   "outputs": [
    {
     "output_type": "stream",
     "name": "stdout",
     "output_type": "stream",
     "text": [
      "Collecting pyspark\n  Downloading pyspark-3.5.1.tar.gz (317.0 MB)\n\u001B[2K     \u001B[90m━━━━━━━━━━━━━━━━━━━━━━━━━━━━━━━━━━━━━━━━\u001B[0m \u001B[32m317.0/317.0 MB\u001B[0m \u001B[31m3.1 MB/s\u001B[0m eta \u001B[36m0:00:00\u001B[0m\n\u001B[?25h  Preparing metadata (setup.py) ... \u001B[?25l\u001B[?25hdone\nRequirement already satisfied: py4j==0.10.9.7 in /usr/local/lib/python3.10/dist-packages (from pyspark) (0.10.9.7)\nBuilding wheels for collected packages: pyspark\n  Building wheel for pyspark (setup.py) ... \u001B[?25l\u001B[?25hdone\n  Created wheel for pyspark: filename=pyspark-3.5.1-py2.py3-none-any.whl size=317488491 sha256=4825052dea65ca5dff007a3446e04661d0b87cecabe9c2ae3381c1e61e52c1c1\n  Stored in directory: /root/.cache/pip/wheels/80/1d/60/2c256ed38dddce2fdd93be545214a63e02fbd8d74fb0b7f3a6\nSuccessfully built pyspark\nInstalling collected packages: pyspark\nSuccessfully installed pyspark-3.5.1\n"
     ]
    }
   ],
   "source": [
    "#install pyspark\n",
    "! pip install pyspark"
   ]
  },
  {
   "cell_type": "code",
   "execution_count": 0,
   "metadata": {
    "application/vnd.databricks.v1+cell": {
     "cellMetadata": {},
     "inputWidgets": {},
     "nuid": "11f20357-7174-40d6-8c60-15b74fed7a3e",
     "showTitle": false,
     "title": ""
    },
    "colab": {
     "background_save": true
    },
    "id": "1wZpO2gxy7Pt"
   },
   "outputs": [],
   "source": [
    "#create a sparksession\n",
    "from pyspark.sql import SparkSession"
   ]
  },
  {
   "cell_type": "code",
   "execution_count": 0,
   "metadata": {
    "application/vnd.databricks.v1+cell": {
     "cellMetadata": {},
     "inputWidgets": {},
     "nuid": "f982827c-146d-459f-8504-4f5ad485288c",
     "showTitle": false,
     "title": ""
    },
    "colab": {
     "background_save": true
    },
    "id": "GFCiJ2Sf9UC9"
   },
   "outputs": [],
   "source": [
    "spark = SparkSession.builder.appName(\"AdmissionPredection\").getOrCreate()"
   ]
  },
  {
   "cell_type": "markdown",
   "metadata": {
    "application/vnd.databricks.v1+cell": {
     "cellMetadata": {},
     "inputWidgets": {},
     "nuid": "89b2d65d-a047-4132-b6a7-3b9885c2f2fd",
     "showTitle": false,
     "title": ""
    },
    "id": "8t7JFc_My__A"
   },
   "source": [
    "#Clone & Explore dataset"
   ]
  },
  {
   "cell_type": "code",
   "execution_count": 0,
   "metadata": {
    "application/vnd.databricks.v1+cell": {
     "cellMetadata": {},
     "inputWidgets": {},
     "nuid": "887da697-a3b2-429f-a7c6-39dfbc79d2f1",
     "showTitle": false,
     "title": ""
    },
    "colab": {
     "base_uri": "https://localhost:8080/"
    },
    "id": "C0oRpI4ezFgc",
    "outputId": "b970b309-8fd2-4533-ef3e-0fe4ebbb57cc"
   },
   "outputs": [
    {
     "output_type": "stream",
     "name": "stdout",
     "output_type": "stream",
     "text": [
      "Cloning into 'admission_dataset'...\nremote: Enumerating objects: 3, done.\u001B[K\nremote: Counting objects: 100% (3/3), done.\u001B[K\nremote: Compressing objects: 100% (3/3), done.\u001B[K\nremote: Total 3 (delta 0), reused 0 (delta 0), pack-reused 0\u001B[K\nReceiving objects: 100% (3/3), 5.60 KiB | 5.60 MiB/s, done.\n"
     ]
    }
   ],
   "source": [
    "#clone the dataset\n",
    "! git clone https://github.com/education454/admission_dataset"
   ]
  },
  {
   "cell_type": "code",
   "execution_count": 0,
   "metadata": {
    "application/vnd.databricks.v1+cell": {
     "cellMetadata": {},
     "inputWidgets": {},
     "nuid": "2c55b25e-d750-4b7d-a5e8-b302678bbe12",
     "showTitle": false,
     "title": ""
    },
    "colab": {
     "base_uri": "https://localhost:8080/"
    },
    "id": "Evfd9ACizers",
    "outputId": "a73840e8-99da-4bc3-8a15-5946514ebded"
   },
   "outputs": [
    {
     "output_type": "stream",
     "name": "stdout",
     "output_type": "stream",
     "text": [
      "Admission_Predict_Ver1.1.csv\n"
     ]
    }
   ],
   "source": [
    "#check the presence of dataset\n",
    "! ls admission_dataset"
   ]
  },
  {
   "cell_type": "code",
   "execution_count": 0,
   "metadata": {
    "application/vnd.databricks.v1+cell": {
     "cellMetadata": {},
     "inputWidgets": {},
     "nuid": "16316922-64eb-461c-84ca-14165b03a125",
     "showTitle": false,
     "title": ""
    },
    "id": "q6sF2NVazjtU"
   },
   "outputs": [],
   "source": [
    "#create a spark dataframe\n",
    "df = spark.read.csv('/content/admission_dataset/Admission_Predict_Ver1.1.csv',header=True,inferSchema=True)"
   ]
  },
  {
   "cell_type": "code",
   "execution_count": 0,
   "metadata": {
    "application/vnd.databricks.v1+cell": {
     "cellMetadata": {},
     "inputWidgets": {},
     "nuid": "6197e97c-d6d1-4df6-a5b3-2821da2f3965",
     "showTitle": false,
     "title": ""
    },
    "colab": {
     "base_uri": "https://localhost:8080/"
    },
    "id": "cG6UhIUuznfJ",
    "outputId": "60babf61-9435-42f7-abd7-b79a6f81afca"
   },
   "outputs": [
    {
     "output_type": "stream",
     "name": "stdout",
     "output_type": "stream",
     "text": [
      "+---------+---------+-----------+-----------------+---+---+----+--------+---------------+\n|Serial No|GRE Score|TOEFL Score|University Rating|SOP|LOR|CGPA|Research|Chance of Admit|\n+---------+---------+-----------+-----------------+---+---+----+--------+---------------+\n|        1|      337|        118|                4|4.5|4.5|9.65|       1|           0.92|\n|        2|      324|        107|                4|4.0|4.5|8.87|       1|           0.76|\n|        3|      316|        104|                3|3.0|3.5| 8.0|       1|           0.72|\n|        4|      322|        110|                3|3.5|2.5|8.67|       1|            0.8|\n|        5|      314|        103|                2|2.0|3.0|8.21|       0|           0.65|\n|        6|      330|        115|                5|4.5|3.0|9.34|       1|            0.9|\n|        7|      321|        109|                3|3.0|4.0| 8.2|       1|           0.75|\n|        8|      308|        101|                2|3.0|4.0| 7.9|       0|           0.68|\n|        9|      302|        102|                1|2.0|1.5| 8.0|       0|            0.5|\n|       10|      323|        108|                3|3.5|3.0| 8.6|       0|           0.45|\n|       11|      325|        106|                3|3.5|4.0| 8.4|       1|           0.52|\n|       12|      327|        111|                4|4.0|4.5| 9.0|       1|           0.84|\n|       13|      328|        112|                4|4.0|4.5| 9.1|       1|           0.78|\n|       14|      307|        109|                3|4.0|3.0| 8.0|       1|           0.62|\n|       15|      311|        104|                3|3.5|2.0| 8.2|       1|           0.61|\n|       16|      314|        105|                3|3.5|2.5| 8.3|       0|           0.54|\n|       17|      317|        107|                3|4.0|3.0| 8.7|       0|           0.66|\n|       18|      319|        106|                3|4.0|3.0| 8.0|       1|           0.65|\n|       19|      318|        110|                3|4.0|3.0| 8.8|       0|           0.63|\n|       20|      303|        102|                3|3.5|3.0| 8.5|       0|           0.62|\n+---------+---------+-----------+-----------------+---+---+----+--------+---------------+\nonly showing top 20 rows\n\n"
     ]
    }
   ],
   "source": [
    "#display dataframe\n",
    "df.show()"
   ]
  },
  {
   "cell_type": "code",
   "execution_count": 0,
   "metadata": {
    "application/vnd.databricks.v1+cell": {
     "cellMetadata": {},
     "inputWidgets": {},
     "nuid": "699bee1f-19e8-4746-81ee-1e90e32ba196",
     "showTitle": false,
     "title": ""
    },
    "colab": {
     "base_uri": "https://localhost:8080/"
    },
    "id": "tgtWocArzqVR",
    "outputId": "8704d0ba-f557-4a15-85bc-54222ca988ff"
   },
   "outputs": [
    {
     "output_type": "stream",
     "name": "stdout",
     "output_type": "stream",
     "text": [
      "500 9\n"
     ]
    }
   ],
   "source": [
    "#get the no.of rows & columns\n",
    "print(df.count(),len(df.columns))"
   ]
  },
  {
   "cell_type": "code",
   "execution_count": 0,
   "metadata": {
    "application/vnd.databricks.v1+cell": {
     "cellMetadata": {},
     "inputWidgets": {},
     "nuid": "c165ad23-856f-4b41-a022-cc6504d97a65",
     "showTitle": false,
     "title": ""
    },
    "colab": {
     "base_uri": "https://localhost:8080/"
    },
    "id": "OWQTe006zt7O",
    "outputId": "c6d9ce61-63aa-42d9-af67-7caa8c6519fb"
   },
   "outputs": [
    {
     "output_type": "stream",
     "name": "stdout",
     "output_type": "stream",
     "text": [
      "root\n |-- Serial No: integer (nullable = true)\n |-- GRE Score: integer (nullable = true)\n |-- TOEFL Score: integer (nullable = true)\n |-- University Rating: integer (nullable = true)\n |-- SOP: double (nullable = true)\n |-- LOR: double (nullable = true)\n |-- CGPA: double (nullable = true)\n |-- Research: integer (nullable = true)\n |-- Chance of Admit: double (nullable = true)\n\n"
     ]
    }
   ],
   "source": [
    "#print schema\n",
    "df.printSchema()"
   ]
  },
  {
   "cell_type": "code",
   "execution_count": 0,
   "metadata": {
    "application/vnd.databricks.v1+cell": {
     "cellMetadata": {},
     "inputWidgets": {},
     "nuid": "20304c12-4876-4ba4-98c7-794a0775aa3d",
     "showTitle": false,
     "title": ""
    },
    "colab": {
     "base_uri": "https://localhost:8080/"
    },
    "id": "locEx8HDz264",
    "outputId": "7ebfc682-76a1-46c4-8889-b22334507747"
   },
   "outputs": [
    {
     "output_type": "stream",
     "name": "stdout",
     "output_type": "stream",
     "text": [
      "+-------+-----------------+------------------+-----------------+-----------------+------------------+------------------+------------------+------------------+-------------------+\n|summary|        Serial No|         GRE Score|      TOEFL Score|University Rating|               SOP|               LOR|              CGPA|          Research|    Chance of Admit|\n+-------+-----------------+------------------+-----------------+-----------------+------------------+------------------+------------------+------------------+-------------------+\n|  count|              500|               500|              500|              500|               500|               500|               500|               500|                500|\n|   mean|            250.5|           316.472|          107.192|            3.114|             3.374|             3.484| 8.576440000000003|              0.56| 0.7217399999999996|\n| stddev|144.4818327679989|11.295148372354712|6.081867659564538|1.143511800759815|0.9910036207566072|0.9254495738978191|0.6048128003332054|0.4968840786090358|0.14114040395030228|\n|    min|                1|               290|               92|                1|               1.0|               1.0|               6.8|                 0|               0.34|\n|    max|              500|               340|              120|                5|               5.0|               5.0|              9.92|                 1|               0.97|\n+-------+-----------------+------------------+-----------------+-----------------+------------------+------------------+------------------+------------------+-------------------+\n\n"
     ]
    }
   ],
   "source": [
    "#get the summary statistics\n",
    "df.describe().show()"
   ]
  },
  {
   "cell_type": "markdown",
   "metadata": {
    "application/vnd.databricks.v1+cell": {
     "cellMetadata": {},
     "inputWidgets": {},
     "nuid": "f1362be9-2811-4921-b4f1-c6e9b90fde07",
     "showTitle": false,
     "title": ""
    },
    "id": "6uDdoEKsz6h6"
   },
   "source": [
    "#Data Cleaning"
   ]
  },
  {
   "cell_type": "code",
   "execution_count": 0,
   "metadata": {
    "application/vnd.databricks.v1+cell": {
     "cellMetadata": {},
     "inputWidgets": {},
     "nuid": "7b677a95-9494-4fb5-b0aa-a25eac5df144",
     "showTitle": false,
     "title": ""
    },
    "id": "o6gJAFo30G9s"
   },
   "outputs": [],
   "source": [
    "#drop the unnecessary column\n",
    "df = df.drop('Serial No')"
   ]
  },
  {
   "cell_type": "code",
   "execution_count": 0,
   "metadata": {
    "application/vnd.databricks.v1+cell": {
     "cellMetadata": {},
     "inputWidgets": {},
     "nuid": "52cee253-7000-4c79-882c-9593deb76b43",
     "showTitle": false,
     "title": ""
    },
    "colab": {
     "base_uri": "https://localhost:8080/"
    },
    "id": "_lOPoDVk0OFH",
    "outputId": "b4793e4b-ef97-47f0-eb94-2624602d375b"
   },
   "outputs": [
    {
     "output_type": "stream",
     "name": "stdout",
     "output_type": "stream",
     "text": [
      "+---------+-----------+-----------------+---+---+----+--------+---------------+\n|GRE Score|TOEFL Score|University Rating|SOP|LOR|CGPA|Research|Chance of Admit|\n+---------+-----------+-----------------+---+---+----+--------+---------------+\n|      337|        118|                4|4.5|4.5|9.65|       1|           0.92|\n|      324|        107|                4|4.0|4.5|8.87|       1|           0.76|\n|      316|        104|                3|3.0|3.5| 8.0|       1|           0.72|\n|      322|        110|                3|3.5|2.5|8.67|       1|            0.8|\n|      314|        103|                2|2.0|3.0|8.21|       0|           0.65|\n|      330|        115|                5|4.5|3.0|9.34|       1|            0.9|\n|      321|        109|                3|3.0|4.0| 8.2|       1|           0.75|\n|      308|        101|                2|3.0|4.0| 7.9|       0|           0.68|\n|      302|        102|                1|2.0|1.5| 8.0|       0|            0.5|\n|      323|        108|                3|3.5|3.0| 8.6|       0|           0.45|\n|      325|        106|                3|3.5|4.0| 8.4|       1|           0.52|\n|      327|        111|                4|4.0|4.5| 9.0|       1|           0.84|\n|      328|        112|                4|4.0|4.5| 9.1|       1|           0.78|\n|      307|        109|                3|4.0|3.0| 8.0|       1|           0.62|\n|      311|        104|                3|3.5|2.0| 8.2|       1|           0.61|\n|      314|        105|                3|3.5|2.5| 8.3|       0|           0.54|\n|      317|        107|                3|4.0|3.0| 8.7|       0|           0.66|\n|      319|        106|                3|4.0|3.0| 8.0|       1|           0.65|\n|      318|        110|                3|4.0|3.0| 8.8|       0|           0.63|\n|      303|        102|                3|3.5|3.0| 8.5|       0|           0.62|\n+---------+-----------+-----------------+---+---+----+--------+---------------+\nonly showing top 20 rows\n\n"
     ]
    }
   ],
   "source": [
    "#display the dataframe\n",
    "df.show()"
   ]
  },
  {
   "cell_type": "code",
   "execution_count": 0,
   "metadata": {
    "application/vnd.databricks.v1+cell": {
     "cellMetadata": {},
     "inputWidgets": {},
     "nuid": "66d002d1-fcb7-44cb-91ba-7751a4152359",
     "showTitle": false,
     "title": ""
    },
    "colab": {
     "base_uri": "https://localhost:8080/"
    },
    "id": "Au73oUZJ0Qv7",
    "outputId": "e5f56c1a-a84f-4c6f-a8a2-de931edcfed8"
   },
   "outputs": [
    {
     "output_type": "stream",
     "name": "stdout",
     "output_type": "stream",
     "text": [
      "GRE Score: 0\nTOEFL Score: 0\nUniversity Rating: 0\nSOP: 0\nLOR: 0\nCGPA: 0\nResearch: 0\nChance of Admit: 0\n"
     ]
    }
   ],
   "source": [
    "#check for null values\n",
    "for i in df.columns:\n",
    "  print(i+':',df[df[i].isNull()].count())"
   ]
  },
  {
   "cell_type": "markdown",
   "metadata": {
    "application/vnd.databricks.v1+cell": {
     "cellMetadata": {},
     "inputWidgets": {},
     "nuid": "ffcb41a9-d37c-426e-bb64-f3569011e755",
     "showTitle": false,
     "title": ""
    },
    "id": "prkDI9Dc0SoH"
   },
   "source": [
    "#Correlation Analysis & Feature Selection"
   ]
  },
  {
   "cell_type": "code",
   "execution_count": 0,
   "metadata": {
    "application/vnd.databricks.v1+cell": {
     "cellMetadata": {},
     "inputWidgets": {},
     "nuid": "5eb2167e-1644-49c2-9df4-98bc6f7556e2",
     "showTitle": false,
     "title": ""
    },
    "id": "eFhxSRRj0Ypa"
   },
   "outputs": [],
   "source": [
    "from os import stat\n",
    "from pyspark.sql.functions import corr\n",
    "\n",
    "# correlation analys"
   ]
  },
  {
   "cell_type": "code",
   "execution_count": 0,
   "metadata": {
    "application/vnd.databricks.v1+cell": {
     "cellMetadata": {},
     "inputWidgets": {},
     "nuid": "e4f0a081-d64b-4499-9dbf-8be52f221f85",
     "showTitle": false,
     "title": ""
    },
    "colab": {
     "base_uri": "https://localhost:8080/"
    },
    "id": "oNgc1OMuXTU1",
    "outputId": "34aa19e1-906e-4cc0-d378-ace53f5a831b"
   },
   "outputs": [
    {
     "output_type": "stream",
     "name": "stdout",
     "output_type": "stream",
     "text": [
      "Correlation to chance of admit col for GRE Score is 0.8103506354632598\nCorrelation to chance of admit col for TOEFL Score is 0.7922276143050823\nCorrelation to chance of admit col for University Rating is 0.6901323687886892\nCorrelation to chance of admit col for SOP is 0.6841365241316723\nCorrelation to chance of admit col for LOR is 0.6453645135280112\nCorrelation to chance of admit col for CGPA is 0.882412574904574\nCorrelation to chance of admit col for Research is 0.5458710294711379\nCorrelation to chance of admit col for Chance of Admit is 1.0\n"
     ]
    }
   ],
   "source": [
    "for col in df.columns:\n",
    "  print('Correlation to chance of admit col for {} is {}'.format(col,df.stat.corr('Chance of Admit',col)))"
   ]
  },
  {
   "cell_type": "code",
   "execution_count": 0,
   "metadata": {
    "application/vnd.databricks.v1+cell": {
     "cellMetadata": {},
     "inputWidgets": {},
     "nuid": "7df7c164-7328-4194-a181-f94dc5ecb05b",
     "showTitle": false,
     "title": ""
    },
    "id": "UXNOknvo0dV2"
   },
   "outputs": [],
   "source": [
    "# feature selection\n",
    "from pyspark.ml.feature import VectorAssembler\n",
    "assenbler = VectorAssembler(inputCols=['GRE Score','TOEFL Score','CGPA'],outputCol='features')"
   ]
  },
  {
   "cell_type": "code",
   "execution_count": 0,
   "metadata": {
    "application/vnd.databricks.v1+cell": {
     "cellMetadata": {},
     "inputWidgets": {},
     "nuid": "34c6f3ba-e53f-4cd2-b7f8-c8f36e038b15",
     "showTitle": false,
     "title": ""
    },
    "colab": {
     "base_uri": "https://localhost:8080/"
    },
    "id": "JOzlkPaz0ibL",
    "outputId": "ec26abc8-5f59-440c-b916-2c6fed98fc05"
   },
   "outputs": [
    {
     "output_type": "stream",
     "name": "stdout",
     "output_type": "stream",
     "text": [
      "+---------+-----------+-----------------+---+---+----+--------+---------------+------------------+\n|GRE Score|TOEFL Score|University Rating|SOP|LOR|CGPA|Research|Chance of Admit|          features|\n+---------+-----------+-----------------+---+---+----+--------+---------------+------------------+\n|      337|        118|                4|4.5|4.5|9.65|       1|           0.92|[337.0,118.0,9.65]|\n|      324|        107|                4|4.0|4.5|8.87|       1|           0.76|[324.0,107.0,8.87]|\n|      316|        104|                3|3.0|3.5| 8.0|       1|           0.72| [316.0,104.0,8.0]|\n|      322|        110|                3|3.5|2.5|8.67|       1|            0.8|[322.0,110.0,8.67]|\n|      314|        103|                2|2.0|3.0|8.21|       0|           0.65|[314.0,103.0,8.21]|\n|      330|        115|                5|4.5|3.0|9.34|       1|            0.9|[330.0,115.0,9.34]|\n|      321|        109|                3|3.0|4.0| 8.2|       1|           0.75| [321.0,109.0,8.2]|\n|      308|        101|                2|3.0|4.0| 7.9|       0|           0.68| [308.0,101.0,7.9]|\n|      302|        102|                1|2.0|1.5| 8.0|       0|            0.5| [302.0,102.0,8.0]|\n|      323|        108|                3|3.5|3.0| 8.6|       0|           0.45| [323.0,108.0,8.6]|\n|      325|        106|                3|3.5|4.0| 8.4|       1|           0.52| [325.0,106.0,8.4]|\n|      327|        111|                4|4.0|4.5| 9.0|       1|           0.84| [327.0,111.0,9.0]|\n|      328|        112|                4|4.0|4.5| 9.1|       1|           0.78| [328.0,112.0,9.1]|\n|      307|        109|                3|4.0|3.0| 8.0|       1|           0.62| [307.0,109.0,8.0]|\n|      311|        104|                3|3.5|2.0| 8.2|       1|           0.61| [311.0,104.0,8.2]|\n|      314|        105|                3|3.5|2.5| 8.3|       0|           0.54| [314.0,105.0,8.3]|\n|      317|        107|                3|4.0|3.0| 8.7|       0|           0.66| [317.0,107.0,8.7]|\n|      319|        106|                3|4.0|3.0| 8.0|       1|           0.65| [319.0,106.0,8.0]|\n|      318|        110|                3|4.0|3.0| 8.8|       0|           0.63| [318.0,110.0,8.8]|\n|      303|        102|                3|3.5|3.0| 8.5|       0|           0.62| [303.0,102.0,8.5]|\n+---------+-----------+-----------------+---+---+----+--------+---------------+------------------+\nonly showing top 20 rows\n\n"
     ]
    }
   ],
   "source": [
    "#display dataframe\n",
    "output_data = assenbler.transform(df)\n",
    "\n",
    "output_data.show()"
   ]
  },
  {
   "cell_type": "markdown",
   "metadata": {
    "application/vnd.databricks.v1+cell": {
     "cellMetadata": {},
     "inputWidgets": {},
     "nuid": "57b5e7b5-feae-4f24-abb5-0e054daf2109",
     "showTitle": false,
     "title": ""
    },
    "id": "l6FucLAC0r5I"
   },
   "source": [
    "# Build the Linear Regression Model"
   ]
  },
  {
   "cell_type": "code",
   "execution_count": 0,
   "metadata": {
    "application/vnd.databricks.v1+cell": {
     "cellMetadata": {},
     "inputWidgets": {},
     "nuid": "61adec91-de38-43e4-b788-81b023316727",
     "showTitle": false,
     "title": ""
    },
    "id": "RMYN_8jJ0wDR"
   },
   "outputs": [],
   "source": [
    "#import Linearregression and create final data\n",
    "from pyspark.ml.regression import LinearRegression\n",
    "final_data = output_data.select('features','Chance of Admit')"
   ]
  },
  {
   "cell_type": "code",
   "execution_count": 0,
   "metadata": {
    "application/vnd.databricks.v1+cell": {
     "cellMetadata": {},
     "inputWidgets": {},
     "nuid": "19228456-4807-4767-8bd2-ece8dcc4372f",
     "showTitle": false,
     "title": ""
    },
    "colab": {
     "base_uri": "https://localhost:8080/"
    },
    "id": "MNSEfLCp09oO",
    "outputId": "8857b5bd-376f-4745-8ee2-f7d473e2e5ae"
   },
   "outputs": [
    {
     "output_type": "stream",
     "name": "stdout",
     "output_type": "stream",
     "text": [
      "root\n |-- features: vector (nullable = true)\n |-- Chance of Admit: double (nullable = true)\n\n"
     ]
    }
   ],
   "source": [
    "#print schema of final data\n",
    "final_data.printSchema()"
   ]
  },
  {
   "cell_type": "code",
   "execution_count": 0,
   "metadata": {
    "application/vnd.databricks.v1+cell": {
     "cellMetadata": {},
     "inputWidgets": {},
     "nuid": "79246142-8458-406f-875e-32300ced8f24",
     "showTitle": false,
     "title": ""
    },
    "id": "vOJylIiS1Dre"
   },
   "outputs": [],
   "source": [
    "#split the dataset into training and testing set\n",
    "train_data,test_data = final_data.randomSplit([0.7,0.3])"
   ]
  },
  {
   "cell_type": "code",
   "execution_count": 0,
   "metadata": {
    "application/vnd.databricks.v1+cell": {
     "cellMetadata": {},
     "inputWidgets": {},
     "nuid": "25f26204-2ed2-48b8-afa4-14991a846cb5",
     "showTitle": false,
     "title": ""
    },
    "id": "xoxFzm4A1Hee"
   },
   "outputs": [],
   "source": [
    "#build & train the model\n",
    "model = LinearRegression(featuresCol='features',labelCol='Chance of Admit')\n",
    "model = model.fit(train_data)"
   ]
  },
  {
   "cell_type": "code",
   "execution_count": 0,
   "metadata": {
    "application/vnd.databricks.v1+cell": {
     "cellMetadata": {},
     "inputWidgets": {},
     "nuid": "61a93d7b-3d72-4a33-8ffa-c0b764df3858",
     "showTitle": false,
     "title": ""
    },
    "colab": {
     "base_uri": "https://localhost:8080/"
    },
    "id": "DDCZ9uvA1QLf",
    "outputId": "230b66a7-067a-44db-d17a-94c7c0ca3396"
   },
   "outputs": [
    {
     "output_type": "stream",
     "name": "stdout",
     "output_type": "stream",
     "text": [
      "Coefficient =  [0.002072187852978751,0.0035920164942791384,0.14838170483319102]\nintercept =  -1.590346206069565\n"
     ]
    }
   ],
   "source": [
    "#get coefficients & intercept\n",
    "print('Coefficient = ',model.coefficients)\n",
    "print('intercept = ',model.intercept)"
   ]
  },
  {
   "cell_type": "code",
   "execution_count": 0,
   "metadata": {
    "application/vnd.databricks.v1+cell": {
     "cellMetadata": {},
     "inputWidgets": {},
     "nuid": "5965593f-0680-400b-beac-480753ea3d7d",
     "showTitle": false,
     "title": ""
    },
    "id": "bO6Duj1l1YJX"
   },
   "outputs": [],
   "source": [
    "#get summary of the model\n",
    "summary = model.summary"
   ]
  },
  {
   "cell_type": "code",
   "execution_count": 0,
   "metadata": {
    "application/vnd.databricks.v1+cell": {
     "cellMetadata": {},
     "inputWidgets": {},
     "nuid": "fc05b2c2-619a-428b-9303-0917d10096ca",
     "showTitle": false,
     "title": ""
    },
    "colab": {
     "base_uri": "https://localhost:8080/"
    },
    "id": "ebi9LxFS1aBJ",
    "outputId": "aa25c3a5-efb0-40d9-a029-c75ee3da457f"
   },
   "outputs": [
    {
     "output_type": "stream",
     "name": "stdout",
     "output_type": "stream",
     "text": [
      "RMSE:  0.06194198447821799\nR2 :  0.8119446221572038\n"
     ]
    }
   ],
   "source": [
    "#print the rmse & r2 score\n",
    "print('RMSE: ',summary.rootMeanSquaredError)\n",
    "print('R2 : ',summary.r2)"
   ]
  },
  {
   "cell_type": "markdown",
   "metadata": {
    "application/vnd.databricks.v1+cell": {
     "cellMetadata": {},
     "inputWidgets": {},
     "nuid": "c0ce5f81-a489-4f88-bc0f-2653bcddb307",
     "showTitle": false,
     "title": ""
    },
    "id": "b5lTskfK1eKV"
   },
   "source": [
    "# Evaluate & Save the Model"
   ]
  },
  {
   "cell_type": "code",
   "execution_count": 0,
   "metadata": {
    "application/vnd.databricks.v1+cell": {
     "cellMetadata": {},
     "inputWidgets": {},
     "nuid": "4a6420c5-9eb6-4c21-9732-0e0218fb7bf5",
     "showTitle": false,
     "title": ""
    },
    "id": "l0TAwvGP1noC"
   },
   "outputs": [],
   "source": [
    "#transform on the test data\n",
    "predections = model.transform(test_data)"
   ]
  },
  {
   "cell_type": "code",
   "execution_count": 0,
   "metadata": {
    "application/vnd.databricks.v1+cell": {
     "cellMetadata": {},
     "inputWidgets": {},
     "nuid": "d56759f4-f7c1-4ae8-b973-c455b2b640a4",
     "showTitle": false,
     "title": ""
    },
    "colab": {
     "base_uri": "https://localhost:8080/"
    },
    "id": "T_DixZ6f1nvP",
    "outputId": "91502193-1487-445f-94d4-3e6879d59a5d"
   },
   "outputs": [
    {
     "output_type": "stream",
     "name": "stdout",
     "output_type": "stream",
     "text": [
      "+------------------+---------------+-------------------+\n|          features|Chance of Admit|         prediction|\n+------------------+---------------+-------------------+\n| [295.0,99.0,7.57]|           0.37|0.49980834908005733|\n| [295.0,99.0,7.65]|           0.57| 0.5116788854667125|\n|  [296.0,97.0,7.8]|           0.49| 0.5288242960561116|\n| [296.0,99.0,7.28]|           0.47| 0.4588498425314105|\n| [297.0,96.0,7.89]|           0.43| 0.5406588208497982|\n| [298.0,97.0,7.21]|           0.45| 0.4454234659104863|\n|  [298.0,98.0,7.5]|           0.44| 0.4920461768063913|\n| [298.0,99.0,7.46]|           0.53|0.48970292510734237|\n|[298.0,100.0,7.95]|           0.58| 0.5660019769698852|\n|[298.0,101.0,7.86]|           0.54| 0.5562396400291771|\n|[299.0,102.0,8.62]|           0.56|   0.67467394004966|\n| [300.0,95.0,8.22]|           0.62| 0.5922493305094088|\n|[300.0,100.0,8.66]|           0.64| 0.6754973631074084|\n|[300.0,101.0,7.88]|           0.59| 0.5633516498317983|\n|[300.0,102.0,8.17]|           0.63| 0.6099743607277028|\n+------------------+---------------+-------------------+\nonly showing top 15 rows\n\n"
     ]
    }
   ],
   "source": [
    "#display the predictions\n",
    "predections.show(15)"
   ]
  },
  {
   "cell_type": "code",
   "execution_count": 0,
   "metadata": {
    "application/vnd.databricks.v1+cell": {
     "cellMetadata": {},
     "inputWidgets": {},
     "nuid": "98d32c9c-45b0-44ab-9f20-5e346ff13970",
     "showTitle": false,
     "title": ""
    },
    "colab": {
     "base_uri": "https://localhost:8080/"
    },
    "id": "vzxDnudZ1n3n",
    "outputId": "18d7e93f-7997-4416-b676-aad858715302"
   },
   "outputs": [
    {
     "output_type": "stream",
     "name": "stdout",
     "output_type": "stream",
     "text": [
      "r2 on the test data : 0.7838243869536594\n"
     ]
    }
   ],
   "source": [
    "#evaluate the model\n",
    "from pyspark.ml.evaluation import RegressionEvaluator\n",
    "evaluat = RegressionEvaluator(predictionCol='prediction',labelCol='Chance of Admit',metricName='r2')\n",
    "print('r2 on the test data :',evaluat.evaluate(predections))"
   ]
  },
  {
   "cell_type": "code",
   "execution_count": 0,
   "metadata": {
    "application/vnd.databricks.v1+cell": {
     "cellMetadata": {},
     "inputWidgets": {},
     "nuid": "c96baa4f-bea3-4a1c-b25d-0f15d7ea1f83",
     "showTitle": false,
     "title": ""
    },
    "id": "WEeyiruX1n_I"
   },
   "outputs": [],
   "source": [
    "#save the model\n",
    "model.save(\"AdmissionPredectionModel\")"
   ]
  },
  {
   "cell_type": "code",
   "execution_count": 0,
   "metadata": {
    "application/vnd.databricks.v1+cell": {
     "cellMetadata": {},
     "inputWidgets": {},
     "nuid": "098cf7e1-1ad2-4f01-afb4-f8f3c13e02d0",
     "showTitle": false,
     "title": ""
    },
    "id": "PK48FYRd2CMJ"
   },
   "outputs": [],
   "source": [
    "#load the model\n",
    "from pyspark.ml.regression import LinearRegressionModel\n",
    "loda_model = LinearRegressionModel.load('AdmissionPredectionModel')"
   ]
  }
 ],
 "metadata": {
  "application/vnd.databricks.v1+notebook": {
   "dashboards": [],
   "environmentMetadata": null,
   "language": "python",
   "notebookMetadata": {
    "pythonIndentUnit": 4
   },
   "notebookName": "Admission_prediction_with_pyspark_ml",
   "widgets": {}
  },
  "colab": {
   "provenance": []
  },
  "kernelspec": {
   "display_name": "Python 3",
   "name": "python3"
  }
 },
 "nbformat": 4,
 "nbformat_minor": 0
}
